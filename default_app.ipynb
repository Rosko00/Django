{
 "cells": [
  {
   "cell_type": "markdown",
   "id": "f0ad9b33",
   "metadata": {},
   "source": [
    "# PREDINŠTALOVANÉ APLIKÁCIE"
   ]
  },
  {
   "cell_type": "markdown",
   "id": "4e104dc4",
   "metadata": {},
   "source": [
    "Každý projekt Django štandartne obsahuje tieto aplikácie"
   ]
  },
  {
   "cell_type": "markdown",
   "id": "0a086553",
   "metadata": {},
   "source": [
    "- django.contrib.admin"
   ]
  },
  {
   "cell_type": "markdown",
   "id": "7dfe135c",
   "metadata": {},
   "source": [
    "Poskytuje správcovské rozhranie na správu údajov"
   ]
  },
  {
   "cell_type": "markdown",
   "id": "f59031a0",
   "metadata": {},
   "source": [
    "- django.contrib.auth"
   ]
  },
  {
   "cell_type": "markdown",
   "id": "bb4f4950",
   "metadata": {},
   "source": [
    "Poskytuje overenie totožnosti, ktorá sa používa na overenie používateľov"
   ]
  },
  {
   "cell_type": "markdown",
   "id": "ab14a63e",
   "metadata": {},
   "source": [
    "- django.contrib.contenttypes"
   ]
  },
  {
   "cell_type": "markdown",
   "id": "20ff9712",
   "metadata": {},
   "source": [
    "Poskytuje typou obsahu"
   ]
  },
  {
   "cell_type": "markdown",
   "id": "6875ed8f",
   "metadata": {},
   "source": [
    "- django.contrib.sessions"
   ]
  },
  {
   "cell_type": "markdown",
   "id": "f655f0b3",
   "metadata": {},
   "source": [
    "Poskytuje relácie, ktorá je akýmsi dedičstvom, dočastnou pamäťou na serveri na správu údajov používateľov."
   ]
  },
  {
   "cell_type": "markdown",
   "id": "403410b0",
   "metadata": {},
   "source": [
    "- django.contrib.messages"
   ]
  },
  {
   "cell_type": "markdown",
   "id": "a88ec7b7",
   "metadata": {},
   "source": [
    "Poskytuje správy, ktoré sa používajú na krátkodobé zobrazovanie upozornení používateľom"
   ]
  },
  {
   "cell_type": "markdown",
   "id": "f2ecef7a",
   "metadata": {},
   "source": [
    "- django.contrib.staticfiles"
   ]
  },
  {
   "cell_type": "markdown",
   "id": "186913da",
   "metadata": {},
   "source": [
    "Poskytuje statické súbory, ako sú súbory css obrázkov atď."
   ]
  },
  {
   "cell_type": "code",
   "execution_count": null,
   "id": "7f873d70",
   "metadata": {},
   "outputs": [],
   "source": []
  }
 ],
 "metadata": {
  "kernelspec": {
   "display_name": "Python 3 (ipykernel)",
   "language": "python",
   "name": "python3"
  },
  "language_info": {
   "codemirror_mode": {
    "name": "ipython",
    "version": 3
   },
   "file_extension": ".py",
   "mimetype": "text/x-python",
   "name": "python",
   "nbconvert_exporter": "python",
   "pygments_lexer": "ipython3",
   "version": "3.10.6"
  }
 },
 "nbformat": 4,
 "nbformat_minor": 5
}
