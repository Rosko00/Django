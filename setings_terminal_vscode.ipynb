{
 "cells": [
  {
   "cell_type": "markdown",
   "id": "0cc5c6cc",
   "metadata": {},
   "source": [
    "# SETINGS TERMINAL VISUAL STUDIO CODE"
   ]
  },
  {
   "cell_type": "markdown",
   "id": "87d47084",
   "metadata": {},
   "source": [
    "1.) Vo Visual Studio Code použijeme skratku:"
   ]
  },
  {
   "cell_type": "code",
   "execution_count": null,
   "id": "730b369b",
   "metadata": {},
   "outputs": [],
   "source": [
    "ctrl + shift + p"
   ]
  },
  {
   "cell_type": "markdown",
   "id": "c1963a04",
   "metadata": {},
   "source": [
    "2.) Definovať v hľadaní príkaz"
   ]
  },
  {
   "cell_type": "code",
   "execution_count": null,
   "id": "95d7a736",
   "metadata": {},
   "outputs": [],
   "source": [
    "Python interpreter # Preddefinovaný interpreter zmením na požadovaný v našom vyrtuálnom prostredí"
   ]
  },
  {
   "cell_type": "markdown",
   "id": "b32bf6cf",
   "metadata": {},
   "source": [
    "3.) Nájdenie cesty k vyrtuálnemu prostrediu"
   ]
  },
  {
   "cell_type": "code",
   "execution_count": null,
   "id": "e628c7ff",
   "metadata": {},
   "outputs": [],
   "source": [
    "pipenv -- venv # Zobrazí cestu k viruálnemu prostriediu"
   ]
  },
  {
   "cell_type": "markdown",
   "id": "b4990815",
   "metadata": {},
   "source": [
    "4.) Skopírujeme si cestu z terminálu"
   ]
  },
  {
   "cell_type": "code",
   "execution_count": null,
   "id": "c11a8ca9",
   "metadata": {},
   "outputs": [],
   "source": [
    "# vysvietime si text mišou a pravým tlačítkom dáme kopírovať."
   ]
  },
  {
   "cell_type": "markdown",
   "id": "34eac357",
   "metadata": {},
   "source": [
    "5.) Vo VS-Code klikneme na ponuku z bodu 1"
   ]
  },
  {
   "cell_type": "raw",
   "id": "735c897d",
   "metadata": {},
   "source": [
    "+ Enter interpreter path"
   ]
  },
  {
   "cell_type": "markdown",
   "id": "c0cf6779",
   "metadata": {},
   "source": [
    "6.) Vložíme skopírovanú cestu + vložíme kód na koniec cesty"
   ]
  },
  {
   "cell_type": "code",
   "execution_count": null,
   "id": "307df4b5",
   "metadata": {},
   "outputs": [],
   "source": [
    "/bin/python"
   ]
  },
  {
   "cell_type": "markdown",
   "id": "e5e7444d",
   "metadata": {},
   "source": [
    "7.) Vo VS-Code ponuka View - Terminál (spustíme vyrtuálne prostredie) "
   ]
  },
  {
   "cell_type": "markdown",
   "id": "f13f29f1",
   "metadata": {},
   "source": [
    "8.) V terminály VS-Code spustíme vyrtuálne prostredie"
   ]
  },
  {
   "cell_type": "code",
   "execution_count": null,
   "id": "62bdc477",
   "metadata": {},
   "outputs": [],
   "source": [
    "python manage.py runserver"
   ]
  },
  {
   "cell_type": "markdown",
   "id": "3803c9b8",
   "metadata": {},
   "source": [
    "- Pokiaľ nám terminál vo VS-Code zobratí chybu sytaxe. Opätovne vykonáme bod 7 a 8"
   ]
  },
  {
   "cell_type": "code",
   "execution_count": null,
   "id": "33b3b54b",
   "metadata": {},
   "outputs": [],
   "source": []
  }
 ],
 "metadata": {
  "kernelspec": {
   "display_name": "Python 3 (ipykernel)",
   "language": "python",
   "name": "python3"
  },
  "language_info": {
   "codemirror_mode": {
    "name": "ipython",
    "version": 3
   },
   "file_extension": ".py",
   "mimetype": "text/x-python",
   "name": "python",
   "nbconvert_exporter": "python",
   "pygments_lexer": "ipython3",
   "version": "3.10.6"
  }
 },
 "nbformat": 4,
 "nbformat_minor": 5
}
