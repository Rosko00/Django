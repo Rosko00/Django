{
 "cells": [
  {
   "cell_type": "markdown",
   "id": "d5c845cc",
   "metadata": {},
   "source": [
    "# DJANGO"
   ]
  },
  {
   "cell_type": "markdown",
   "id": "f3af889f",
   "metadata": {},
   "source": [
    "# Tri nevyhnutné kroky pred inštaláciou"
   ]
  },
  {
   "cell_type": "markdown",
   "id": "23a30e9d",
   "metadata": {},
   "source": [
    "1.)"
   ]
  },
  {
   "cell_type": "markdown",
   "id": "a414c09e",
   "metadata": {},
   "source": [
    "Zistenie nainštalovanej verzie Pythonu"
   ]
  },
  {
   "cell_type": "code",
   "execution_count": null,
   "id": "31cbb90a",
   "metadata": {},
   "outputs": [],
   "source": [
    "python3--version"
   ]
  },
  {
   "cell_type": "markdown",
   "id": "b0c24a96",
   "metadata": {},
   "source": [
    "2.)"
   ]
  },
  {
   "cell_type": "markdown",
   "id": "def2cd67",
   "metadata": {},
   "source": [
    "Spustenie aktualizácie"
   ]
  },
  {
   "cell_type": "code",
   "execution_count": null,
   "id": "451393d5",
   "metadata": {},
   "outputs": [],
   "source": [
    "sudo apt update"
   ]
  },
  {
   "cell_type": "markdown",
   "id": "2798ef5e",
   "metadata": {},
   "source": [
    "3.)"
   ]
  },
  {
   "cell_type": "markdown",
   "id": "ad309603",
   "metadata": {},
   "source": [
    "Vyrtuálne prostredie"
   ]
  },
  {
   "cell_type": "code",
   "execution_count": null,
   "id": "a28b5e2b",
   "metadata": {},
   "outputs": [],
   "source": [
    "pip install pipenv"
   ]
  },
  {
   "cell_type": "markdown",
   "id": "881de81f",
   "metadata": {},
   "source": [
    "# Začíname"
   ]
  },
  {
   "cell_type": "markdown",
   "id": "a2c04c12",
   "metadata": {},
   "source": [
    "4.)"
   ]
  },
  {
   "cell_type": "markdown",
   "id": "01ffde3f",
   "metadata": {},
   "source": [
    "Vytvorenie adresára projektu"
   ]
  },
  {
   "cell_type": "code",
   "execution_count": null,
   "id": "844068ee",
   "metadata": {},
   "outputs": [],
   "source": [
    "mkdir frst_app # (frst_app) je môj názov proejtku môže byť akýkoľvek názov"
   ]
  },
  {
   "cell_type": "markdown",
   "id": "9a5ccc8f",
   "metadata": {},
   "source": [
    "5.)"
   ]
  },
  {
   "cell_type": "markdown",
   "id": "782ad1aa",
   "metadata": {},
   "source": [
    "Takto sa dostaneme no vytvoreného adresára "
   ]
  },
  {
   "cell_type": "code",
   "execution_count": null,
   "id": "1c8349df",
   "metadata": {},
   "outputs": [],
   "source": [
    "cd frst_app # Tu použijeme názov súboru ktorý sme zvolili v kroku 4"
   ]
  },
  {
   "cell_type": "markdown",
   "id": "100be5a3",
   "metadata": {},
   "source": [
    "6.)"
   ]
  },
  {
   "cell_type": "markdown",
   "id": "85944545",
   "metadata": {},
   "source": [
    "Inštalácia Djanga"
   ]
  },
  {
   "cell_type": "code",
   "execution_count": null,
   "id": "1826a9dc",
   "metadata": {},
   "outputs": [],
   "source": [
    "pipenv install django # Prebehne inštalácia"
   ]
  },
  {
   "cell_type": "markdown",
   "id": "a8e4865b",
   "metadata": {},
   "source": [
    "7.)"
   ]
  },
  {
   "cell_type": "markdown",
   "id": "55288aa2",
   "metadata": {},
   "source": [
    "Zobrazíme si súbory v priečinku. Sú tam dva súbory "
   ]
  },
  {
   "cell_type": "code",
   "execution_count": null,
   "id": "b0bdcd14",
   "metadata": {},
   "outputs": [],
   "source": [
    "ls # zobrazí súbory (pipfile a pipfile.lock)"
   ]
  },
  {
   "cell_type": "markdown",
   "id": "126583fc",
   "metadata": {},
   "source": [
    "8.)"
   ]
  },
  {
   "cell_type": "markdown",
   "id": "d2fab761",
   "metadata": {},
   "source": [
    "Príkazom v terminály si spustíme Visual Studio Code z už nalogovaným priečinkom"
   ]
  },
  {
   "cell_type": "code",
   "execution_count": null,
   "id": "2174427b",
   "metadata": {},
   "outputs": [],
   "source": [
    "code ."
   ]
  },
  {
   "cell_type": "markdown",
   "id": "1ee1bf1a",
   "metadata": {},
   "source": [
    "9.)"
   ]
  },
  {
   "cell_type": "markdown",
   "id": "b3a984a0",
   "metadata": {},
   "source": [
    "Spustíme si virtuálne prostredie"
   ]
  },
  {
   "cell_type": "code",
   "execution_count": null,
   "id": "f570dc2e",
   "metadata": {},
   "outputs": [],
   "source": [
    "pipenv shell"
   ]
  },
  {
   "cell_type": "markdown",
   "id": "5cd5c4a4",
   "metadata": {},
   "source": [
    "10.)"
   ]
  },
  {
   "cell_type": "markdown",
   "id": "cbf763f0",
   "metadata": {},
   "source": [
    "Zobrazíme si všetky príkazy ktoré admin obsahuje"
   ]
  },
  {
   "cell_type": "code",
   "execution_count": null,
   "id": "1a9c3700",
   "metadata": {},
   "outputs": [],
   "source": [
    "django-admin"
   ]
  },
  {
   "cell_type": "markdown",
   "id": "474c27c4",
   "metadata": {},
   "source": [
    "11.)"
   ]
  },
  {
   "cell_type": "markdown",
   "id": "c49290ad",
   "metadata": {},
   "source": [
    "Spustíme projekt"
   ]
  },
  {
   "cell_type": "code",
   "execution_count": null,
   "id": "9c9ef7bf",
   "metadata": {},
   "outputs": [],
   "source": [
    "django-admin startproject frst_app"
   ]
  },
  {
   "cell_type": "markdown",
   "id": "708999dc",
   "metadata": {},
   "source": [
    "12.)"
   ]
  },
  {
   "cell_type": "markdown",
   "id": "a469343a",
   "metadata": {},
   "source": [
    "Prepneme sa do Visual Studio Code a zmažeme kmeňový adresár frst_app pravým tlačítkom myši a predposledné v menu rename."
   ]
  },
  {
   "cell_type": "markdown",
   "id": "2eecf269",
   "metadata": {},
   "source": [
    "13.)"
   ]
  },
  {
   "cell_type": "markdown",
   "id": "15d55b82",
   "metadata": {},
   "source": [
    "Spustíme v terminály príkaz na správne načítanie architektúry vo vs-code"
   ]
  },
  {
   "cell_type": "code",
   "execution_count": null,
   "id": "edb7f981",
   "metadata": {},
   "outputs": [],
   "source": [
    "django-admin startproject frst_app . # To isté ako v bode 11 ale z bodkou na konci"
   ]
  },
  {
   "cell_type": "code",
   "execution_count": null,
   "id": "978475e1",
   "metadata": {},
   "outputs": [],
   "source": []
  },
  {
   "cell_type": "code",
   "execution_count": null,
   "id": "7aebac52",
   "metadata": {},
   "outputs": [],
   "source": []
  }
 ],
 "metadata": {
  "kernelspec": {
   "display_name": "Python 3 (ipykernel)",
   "language": "python",
   "name": "python3"
  },
  "language_info": {
   "codemirror_mode": {
    "name": "ipython",
    "version": 3
   },
   "file_extension": ".py",
   "mimetype": "text/x-python",
   "name": "python",
   "nbconvert_exporter": "python",
   "pygments_lexer": "ipython3",
   "version": "3.10.6"
  }
 },
 "nbformat": 4,
 "nbformat_minor": 5
}
