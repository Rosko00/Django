{
 "cells": [
  {
   "cell_type": "markdown",
   "id": "84119f9f",
   "metadata": {},
   "source": [
    "# DJANGO"
   ]
  },
  {
   "cell_type": "markdown",
   "id": "1889e7b5",
   "metadata": {},
   "source": [
    "# Tri nevyhnutné kroky pred inštaláciou"
   ]
  },
  {
   "cell_type": "markdown",
   "id": "0dbedc5a",
   "metadata": {},
   "source": [
    "1.)"
   ]
  },
  {
   "cell_type": "markdown",
   "id": "6a0bc1f7",
   "metadata": {},
   "source": [
    "Zistenie nainštalovanej verzie Pythonu"
   ]
  },
  {
   "cell_type": "code",
   "execution_count": null,
   "id": "8d68fb2e",
   "metadata": {},
   "outputs": [],
   "source": [
    "python3--version"
   ]
  },
  {
   "cell_type": "markdown",
   "id": "71c90eb3",
   "metadata": {},
   "source": [
    "2.)"
   ]
  },
  {
   "cell_type": "markdown",
   "id": "8139924c",
   "metadata": {},
   "source": [
    "Spustenie aktualizácie"
   ]
  },
  {
   "cell_type": "code",
   "execution_count": null,
   "id": "5d66ba31",
   "metadata": {},
   "outputs": [],
   "source": [
    "sudo apt update"
   ]
  },
  {
   "cell_type": "markdown",
   "id": "bbe9964b",
   "metadata": {},
   "source": [
    "3.)"
   ]
  },
  {
   "cell_type": "markdown",
   "id": "f86e5940",
   "metadata": {},
   "source": [
    "Vyrtuálne prostredie"
   ]
  },
  {
   "cell_type": "code",
   "execution_count": null,
   "id": "55f18991",
   "metadata": {},
   "outputs": [],
   "source": [
    "pip install pipenv"
   ]
  },
  {
   "cell_type": "markdown",
   "id": "bdfe0366",
   "metadata": {},
   "source": [
    "# Začíname"
   ]
  },
  {
   "cell_type": "markdown",
   "id": "595c5e07",
   "metadata": {},
   "source": [
    "4.)"
   ]
  },
  {
   "cell_type": "markdown",
   "id": "f6348221",
   "metadata": {},
   "source": [
    "Vytvorenie adresára projektu"
   ]
  },
  {
   "cell_type": "code",
   "execution_count": null,
   "id": "8a14eccf",
   "metadata": {},
   "outputs": [],
   "source": [
    "mkdir frst_app # (frst_app) je môj názov proejtku môže byť akýkoľvek názov"
   ]
  },
  {
   "cell_type": "markdown",
   "id": "e4201ae9",
   "metadata": {},
   "source": [
    "5.)"
   ]
  },
  {
   "cell_type": "markdown",
   "id": "a15d9a6f",
   "metadata": {},
   "source": [
    "Takto sa dostaneme no vytvoreného adresára "
   ]
  },
  {
   "cell_type": "code",
   "execution_count": null,
   "id": "6e7945a0",
   "metadata": {},
   "outputs": [],
   "source": [
    "cd frst_app # Tu použijeme názov súboru ktorý sme zvolili v kroku 4"
   ]
  },
  {
   "cell_type": "markdown",
   "id": "850f212b",
   "metadata": {},
   "source": [
    "6.)"
   ]
  },
  {
   "cell_type": "markdown",
   "id": "e733cb3a",
   "metadata": {},
   "source": [
    "Inštalácia Djanga"
   ]
  },
  {
   "cell_type": "code",
   "execution_count": null,
   "id": "5cce6f15",
   "metadata": {},
   "outputs": [],
   "source": [
    "pipenv install django # Prebehne inštalácia"
   ]
  },
  {
   "cell_type": "markdown",
   "id": "aeadf99a",
   "metadata": {},
   "source": [
    "7.)"
   ]
  },
  {
   "cell_type": "markdown",
   "id": "04130073",
   "metadata": {},
   "source": [
    "Zobrazíme si súbory v priečinku. Sú tam dva súbory "
   ]
  },
  {
   "cell_type": "code",
   "execution_count": null,
   "id": "2a2a0fc9",
   "metadata": {},
   "outputs": [],
   "source": [
    "ls # zobrazí súbory (pipfile a pipfile.lock)"
   ]
  },
  {
   "cell_type": "markdown",
   "id": "bb18bc78",
   "metadata": {},
   "source": [
    "8.)"
   ]
  },
  {
   "cell_type": "markdown",
   "id": "e0b0537a",
   "metadata": {},
   "source": [
    "Príkazom v terminály si spustíme Visual Studio Code z už nalogovaným priečinkom"
   ]
  },
  {
   "cell_type": "code",
   "execution_count": null,
   "id": "fad4e7e8",
   "metadata": {},
   "outputs": [],
   "source": [
    "code ."
   ]
  },
  {
   "cell_type": "markdown",
   "id": "8a7218d4",
   "metadata": {},
   "source": [
    "9.)"
   ]
  },
  {
   "cell_type": "markdown",
   "id": "bd8fe910",
   "metadata": {},
   "source": [
    "Spustíme si virtuálne prostredie"
   ]
  },
  {
   "cell_type": "code",
   "execution_count": null,
   "id": "087b7a4a",
   "metadata": {},
   "outputs": [],
   "source": [
    "pipenv shell"
   ]
  },
  {
   "cell_type": "markdown",
   "id": "dd6665c7",
   "metadata": {},
   "source": [
    "10.)"
   ]
  },
  {
   "cell_type": "markdown",
   "id": "61e3ca4d",
   "metadata": {},
   "source": [
    "Zobrazíme si všetky príkazy ktoré admin obsahuje"
   ]
  },
  {
   "cell_type": "code",
   "execution_count": null,
   "id": "04f74d57",
   "metadata": {},
   "outputs": [],
   "source": [
    "django-admin"
   ]
  },
  {
   "cell_type": "markdown",
   "id": "d487a7b6",
   "metadata": {},
   "source": [
    "11.)"
   ]
  },
  {
   "cell_type": "markdown",
   "id": "cbf13e69",
   "metadata": {},
   "source": [
    "Spustíme projekt"
   ]
  },
  {
   "cell_type": "code",
   "execution_count": null,
   "id": "a4cd6b19",
   "metadata": {},
   "outputs": [],
   "source": [
    "django-admin startproject frst_app"
   ]
  },
  {
   "cell_type": "markdown",
   "id": "655c09b7",
   "metadata": {},
   "source": [
    "12.)"
   ]
  },
  {
   "cell_type": "markdown",
   "id": "0609ef0b",
   "metadata": {},
   "source": [
    "Prepneme sa do Visual Studio Code a zmažeme kmeňový adresár frst_app pravým tlačítkom myši a predposledné v menu rename."
   ]
  },
  {
   "cell_type": "markdown",
   "id": "b4b62bc2",
   "metadata": {},
   "source": [
    "13.)"
   ]
  },
  {
   "cell_type": "markdown",
   "id": "038dc6f1",
   "metadata": {},
   "source": [
    "Spustíme v terminály príkaz na správne načítanie architektúry vo vs-code"
   ]
  },
  {
   "cell_type": "code",
   "execution_count": null,
   "id": "203be72c",
   "metadata": {},
   "outputs": [],
   "source": [
    "django-admin startproject frst_app . # To isté ako v bode 11 ale z bodkou na konci"
   ]
  },
  {
   "cell_type": "markdown",
   "id": "e3e7808b",
   "metadata": {},
   "source": [
    "# Spustenie webového servera"
   ]
  },
  {
   "cell_type": "markdown",
   "id": "b01146c6",
   "metadata": {},
   "source": [
    "14.) "
   ]
  },
  {
   "cell_type": "markdown",
   "id": "df74da75",
   "metadata": {},
   "source": [
    "Príkaz na spustenie webového servera "
   ]
  },
  {
   "cell_type": "code",
   "execution_count": null,
   "id": "d1c8ffab",
   "metadata": {},
   "outputs": [],
   "source": [
    "django-admin runserver # Spustenie tohto príkazu zobrazí chybu, pretože Django nevidí naše nastavenia v projekte"
   ]
  },
  {
   "cell_type": "markdown",
   "id": "a4c244a0",
   "metadata": {},
   "source": [
    "15.)"
   ]
  },
  {
   "cell_type": "markdown",
   "id": "982c9ae9",
   "metadata": {},
   "source": [
    "Spustíme Python a súbor manage.py"
   ]
  },
  {
   "cell_type": "code",
   "execution_count": null,
   "id": "149d1e85",
   "metadata": {},
   "outputs": [],
   "source": [
    "python manage.py # Zobrazí všetky príkazy ako v bode 10 pre admin"
   ]
  },
  {
   "cell_type": "markdown",
   "id": "5e73f24a",
   "metadata": {},
   "source": [
    "16.)"
   ]
  },
  {
   "cell_type": "markdown",
   "id": "52398876",
   "metadata": {},
   "source": [
    "Spustíme webový server cez súbor manage.py"
   ]
  },
  {
   "cell_type": "code",
   "execution_count": null,
   "id": "100d1852",
   "metadata": {},
   "outputs": [],
   "source": [
    "python manage.py runserver 9000 "
   ]
  },
  {
   "cell_type": "markdown",
   "id": "da8ed382",
   "metadata": {},
   "source": [
    "- 9000 je číslo portu. \n",
    "- Nemusíte ho zadať ale prednastavený je port 8000 a vysokou pravdepodobnosťou ho používa iná aplikácia\n",
    "- Všimnite si že nedostávate chybu\n",
    "- Dostávame však upozornenie o nepoužitých migráciách ale o tom neskôr\n",
    "- Vidíme ale IP adresu nášho projektu. Ktorú keď zadáme do internetového prehliadača vidíme náš nový projekt"
   ]
  },
  {
   "cell_type": "markdown",
   "id": "000abbd1",
   "metadata": {},
   "source": []
  },
  {
   "cell_type": "code",
   "execution_count": null,
   "id": "ddfc09a9",
   "metadata": {},
   "outputs": [],
   "source": []
  }
 ],
 "metadata": {
  "kernelspec": {
   "display_name": "Python 3 (ipykernel)",
   "language": "python",
   "name": "python3"
  },
  "language_info": {
   "codemirror_mode": {
    "name": "ipython",
    "version": 3
   },
   "file_extension": ".py",
   "mimetype": "text/x-python",
   "name": "python",
   "nbconvert_exporter": "python",
   "pygments_lexer": "ipython3",
   "version": "3.10.6"
  }
 },
 "nbformat": 4,
 "nbformat_minor": 5
}
